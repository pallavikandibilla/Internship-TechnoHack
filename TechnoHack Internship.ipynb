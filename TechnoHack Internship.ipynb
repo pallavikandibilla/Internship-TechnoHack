{
 "cells": [
  {
   "cell_type": "markdown",
   "id": "059151db",
   "metadata": {},
   "source": [
    "# Pallavi K G (batch 9)"
   ]
  },
  {
   "cell_type": "markdown",
   "id": "e8c62c17",
   "metadata": {},
   "source": [
    "#  Pivote table (task 4)"
   ]
  },
  {
   "cell_type": "code",
   "execution_count": 2,
   "id": "a3c63d2f",
   "metadata": {},
   "outputs": [
    {
     "name": "stdout",
     "output_type": "stream",
     "text": [
      "bedrooms   1          2             3                4                 5     \\\n",
      "bathrooms  1          1  2          1          2  3  1  2  3  4        1  2   \n",
      "area                                                                          \n",
      "1650       0        0.0  0  3150000.0        0.0  0  0  0  0  0        0  0   \n",
      "1700       0        0.0  0  1890000.0        0.0  0  0  0  0  0        0  0   \n",
      "1836       0  2275000.0  0        0.0        0.0  0  0  0  0  0        0  0   \n",
      "1905       0        0.0  0        0.0        0.0  0  0  0  0  0  4340000  0   \n",
      "1950       0        0.0  0  2240000.0  3430000.0  0  0  0  0  0        0  0   \n",
      "...       ..        ... ..        ...        ... .. .. .. .. ..      ... ..   \n",
      "12900      0        0.0  0  4900000.0        0.0  0  0  0  0  0        0  0   \n",
      "12944      0        0.0  0  3500000.0        0.0  0  0  0  0  0        0  0   \n",
      "13200      0  6930000.0  0  9800000.0        0.0  0  0  0  0  0        0  0   \n",
      "15600      0        0.0  0  5943000.0        0.0  0  0  0  0  0        0  0   \n",
      "16200      0        0.0  0        0.0        0.0  0  0  0  0  0        0  0   \n",
      "\n",
      "bedrooms             6     \n",
      "bathrooms         3  1  2  \n",
      "area                       \n",
      "1650              0  0  0  \n",
      "1700              0  0  0  \n",
      "1836              0  0  0  \n",
      "1905              0  0  0  \n",
      "1950              0  0  0  \n",
      "...             ... .. ..  \n",
      "12900             0  0  0  \n",
      "12944             0  0  0  \n",
      "13200             0  0  0  \n",
      "15600             0  0  0  \n",
      "16200      10150000  0  0  \n",
      "\n",
      "[284 rows x 15 columns]\n"
     ]
    }
   ],
   "source": [
    "import pandas as pd\n",
    "\n",
    "# Load your dataset into a Pandas DataFrame\n",
    "df = pd.read_csv(\"Housing.csv\")\n",
    "\n",
    "# Create a pivot table to summarize the data\n",
    "pivot_table = pd.pivot_table(df, \n",
    "                              values='price',  # The values to be summarized\n",
    "                              index='area',  # Rows of the pivot table\n",
    "                              columns=['bedrooms', 'bathrooms'],  # Columns of the pivot table\n",
    "                              aggfunc='mean',  # Aggregation function (e.g., mean, sum, count)\n",
    "                              fill_value=0)  # Fill missing values with 0\n",
    "\n",
    "# Print the pivot table\n",
    "print(pivot_table)"
   ]
  },
  {
   "cell_type": "markdown",
   "id": "dee499ff",
   "metadata": {},
   "source": [
    "# Remove Duplication(task 5)"
   ]
  },
  {
   "cell_type": "code",
   "execution_count": 3,
   "id": "0d976605",
   "metadata": {},
   "outputs": [
    {
     "name": "stdout",
     "output_type": "stream",
     "text": [
      "Duplicate Rows:\n",
      "     sepal length (cm)  sepal width (cm)  petal length (cm)  petal width (cm)\n",
      "142                5.8               2.7                5.1               1.9\n",
      "150                5.1               3.5                1.4               0.2\n",
      "\n",
      "DataFrame without Duplicates:\n",
      "     sepal length (cm)  sepal width (cm)  petal length (cm)  petal width (cm)\n",
      "0                  5.1               3.5                1.4               0.2\n",
      "1                  4.9               3.0                1.4               0.2\n",
      "2                  4.7               3.2                1.3               0.2\n",
      "3                  4.6               3.1                1.5               0.2\n",
      "4                  5.0               3.6                1.4               0.2\n",
      "..                 ...               ...                ...               ...\n",
      "145                6.7               3.0                5.2               2.3\n",
      "146                6.3               2.5                5.0               1.9\n",
      "147                6.5               3.0                5.2               2.0\n",
      "148                6.2               3.4                5.4               2.3\n",
      "149                5.9               3.0                5.1               1.8\n",
      "\n",
      "[149 rows x 4 columns]\n"
     ]
    },
    {
     "name": "stderr",
     "output_type": "stream",
     "text": [
      "C:\\Users\\Pallavi k\\AppData\\Local\\Temp\\ipykernel_19100\\1446511161.py:13: FutureWarning: The frame.append method is deprecated and will be removed from pandas in a future version. Use pandas.concat instead.\n",
      "  df = df.append(df.iloc[0], ignore_index=True)\n"
     ]
    }
   ],
   "source": [
    "import pandas as pd\n",
    "from sklearn.datasets import load_iris\n",
    "\n",
    "# Load the Iris dataset\n",
    "iris = load_iris()\n",
    "data = iris.data\n",
    "columns = iris.feature_names\n",
    "\n",
    "# Create a DataFrame from the Iris dataset\n",
    "df = pd.DataFrame(data, columns=columns)\n",
    "\n",
    "# Add a duplicate row\n",
    "df = df.append(df.iloc[0], ignore_index=True)\n",
    "\n",
    "# Identify duplicate rows based on all columns\n",
    "duplicate_rows = df[df.duplicated()]\n",
    "\n",
    "# Display duplicate rows\n",
    "print(\"Duplicate Rows:\")\n",
    "print(duplicate_rows)\n",
    "\n",
    "# Remove duplicate rows, keeping the first occurrence\n",
    "df_no_duplicates = df.drop_duplicates()\n",
    "\n",
    "# Display the DataFrame without duplicates\n",
    "print(\"\\nDataFrame without Duplicates:\")\n",
    "print(df_no_duplicates)"
   ]
  },
  {
   "cell_type": "markdown",
   "id": "7608f87a",
   "metadata": {},
   "source": [
    "# Visualization using Histogram (task 3)"
   ]
  },
  {
   "cell_type": "code",
   "execution_count": 4,
   "id": "bc86e9ae",
   "metadata": {},
   "outputs": [
    {
     "name": "stdout",
     "output_type": "stream",
     "text": [
      "Note: you may need to restart the kernel to use updated packages.\n"
     ]
    }
   ],
   "source": [
    "pip install matplotlib seaborn\n"
   ]
  },
  {
   "cell_type": "code",
   "execution_count": 5,
   "id": "b2c9e875",
   "metadata": {},
   "outputs": [
    {
     "data": {
      "image/png": "[encoded data removed]",
      "text/plain": [
       "<Figure size 800x600 with 1 Axes>"
      ]
     },
     "metadata": {},
     "output_type": "display_data"
    }
   ],
   "source": [
    "import seaborn as sns\n",
    "import matplotlib.pyplot as plt\n",
    "import pandas as pd\n",
    "\n",
    "# Load the Iris dataset from Seaborn\n",
    "iris = sns.load_dataset('iris')\n",
    "\n",
    "# Create a histogram for the sepal length feature\n",
    "plt.figure(figsize=(8, 6))\n",
    "sns.histplot(iris['sepal_length'], bins=10, kde=True)\n",
    "plt.title('Distribution of Sepal Length in Iris Dataset')\n",
    "plt.xlabel('Sepal Length (cm)')\n",
    "plt.ylabel('Frequency')\n",
    "plt.show()\n"
   ]
  },
  {
   "cell_type": "code",
   "execution_count": null,
   "id": "06af5945",
   "metadata": {},
   "outputs": [],
   "source": []
  },
  {
   "cell_type": "code",
   "execution_count": null,
   "id": "b32a886f",
   "metadata": {},
   "outputs": [],
   "source": []
  },
  {
   "cell_type": "code",
   "execution_count": null,
   "id": "379b023f",
   "metadata": {},
   "outputs": [],
   "source": []
  }
 ],
 "metadata": {
  "kernelspec": {
   "display_name": "Python 3 (ipykernel)",
   "language": "python",
   "name": "python3"
  },
  "language_info": {
   "codemirror_mode": {
    "name": "ipython",
    "version": 3
   },
   "file_extension": ".py",
   "mimetype": "text/x-python",
   "name": "python",
   "nbconvert_exporter": "python",
   "pygments_lexer": "ipython3",
   "version": "3.9.13"
  }
 },
 "nbformat": 4,
 "nbformat_minor": 5
}
